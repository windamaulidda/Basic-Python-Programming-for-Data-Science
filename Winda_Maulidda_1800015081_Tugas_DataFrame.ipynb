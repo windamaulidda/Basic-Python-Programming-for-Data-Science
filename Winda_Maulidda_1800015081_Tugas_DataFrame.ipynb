{
  "nbformat": 4,
  "nbformat_minor": 0,
  "metadata": {
    "colab": {
      "name": "Winda Maulidda_1800015081 Tugas_DataFrame.ipynb",
      "provenance": [],
      "collapsed_sections": [],
      "include_colab_link": true
    },
    "kernelspec": {
      "name": "python3",
      "display_name": "Python 3"
    },
    "language_info": {
      "name": "python"
    }
  },
  "cells": [
    {
      "cell_type": "markdown",
      "metadata": {
        "id": "view-in-github",
        "colab_type": "text"
      },
      "source": [
        "<a href=\"https://colab.research.google.com/github/windamaulidda/Basic-Python-Programming-for-Data-Science/blob/main/Winda_Maulidda_1800015081_Tugas_DataFrame.ipynb\" target=\"_parent\"><img src=\"https://colab.research.google.com/assets/colab-badge.svg\" alt=\"Open In Colab\"/></a>"
      ]
    },
    {
      "cell_type": "code",
      "metadata": {
        "id": "bOks5InPdQ3V"
      },
      "source": [
        "import pandas as pd\n",
        "import numpy as np"
      ],
      "execution_count": null,
      "outputs": []
    },
    {
      "cell_type": "markdown",
      "metadata": {
        "id": "TQTRIrnnv1d1"
      },
      "source": [
        "## Dataset"
      ]
    },
    {
      "cell_type": "code",
      "metadata": {
        "colab": {
          "base_uri": "https://localhost:8080/",
          "height": 204
        },
        "id": "v1AmW3H0v4js",
        "outputId": "6acdb0ad-6b2b-4e29-dcf6-ffabc66c4b03"
      },
      "source": [
        "df = pd.read_csv(\"https://raw.githubusercontent.com/jokoeliyanto/Kelas-Dasar-Pejuang-Data-2.0/main/Super-Store-Dataset.csv\")\n",
        "df.head() "
      ],
      "execution_count": 78,
      "outputs": [
        {
          "output_type": "execute_result",
          "data": {
            "text/html": [
              "<div>\n",
              "<style scoped>\n",
              "    .dataframe tbody tr th:only-of-type {\n",
              "        vertical-align: middle;\n",
              "    }\n",
              "\n",
              "    .dataframe tbody tr th {\n",
              "        vertical-align: top;\n",
              "    }\n",
              "\n",
              "    .dataframe thead th {\n",
              "        text-align: right;\n",
              "    }\n",
              "</style>\n",
              "<table border=\"1\" class=\"dataframe\">\n",
              "  <thead>\n",
              "    <tr style=\"text-align: right;\">\n",
              "      <th></th>\n",
              "      <th>order_id</th>\n",
              "      <th>order_date</th>\n",
              "      <th>customer_id</th>\n",
              "      <th>segment</th>\n",
              "      <th>category</th>\n",
              "      <th>sub_category</th>\n",
              "      <th>sales</th>\n",
              "      <th>quantity</th>\n",
              "      <th>profit</th>\n",
              "    </tr>\n",
              "  </thead>\n",
              "  <tbody>\n",
              "    <tr>\n",
              "      <th>0</th>\n",
              "      <td>CA-2016-152156</td>\n",
              "      <td>11/8/2016</td>\n",
              "      <td>CG-12520</td>\n",
              "      <td>Consumer</td>\n",
              "      <td>Furniture</td>\n",
              "      <td>Bookcases</td>\n",
              "      <td>261.9600</td>\n",
              "      <td>2</td>\n",
              "      <td>41.9136</td>\n",
              "    </tr>\n",
              "    <tr>\n",
              "      <th>1</th>\n",
              "      <td>CA-2016-152156</td>\n",
              "      <td>11/8/2016</td>\n",
              "      <td>CG-12520</td>\n",
              "      <td>Consumer</td>\n",
              "      <td>Furniture</td>\n",
              "      <td>Chairs</td>\n",
              "      <td>731.9400</td>\n",
              "      <td>3</td>\n",
              "      <td>219.5820</td>\n",
              "    </tr>\n",
              "    <tr>\n",
              "      <th>2</th>\n",
              "      <td>CA-2016-138688</td>\n",
              "      <td>6/12/2016</td>\n",
              "      <td>DV-13045</td>\n",
              "      <td>Corporate</td>\n",
              "      <td>Office Supplies</td>\n",
              "      <td>Labels</td>\n",
              "      <td>14.6200</td>\n",
              "      <td>2</td>\n",
              "      <td>6.8714</td>\n",
              "    </tr>\n",
              "    <tr>\n",
              "      <th>3</th>\n",
              "      <td>US-2015-108966</td>\n",
              "      <td>10/11/2015</td>\n",
              "      <td>SO-20335</td>\n",
              "      <td>Consumer</td>\n",
              "      <td>Furniture</td>\n",
              "      <td>Tables</td>\n",
              "      <td>957.5775</td>\n",
              "      <td>5</td>\n",
              "      <td>-383.0310</td>\n",
              "    </tr>\n",
              "    <tr>\n",
              "      <th>4</th>\n",
              "      <td>US-2015-108966</td>\n",
              "      <td>10/11/2015</td>\n",
              "      <td>SO-20335</td>\n",
              "      <td>Consumer</td>\n",
              "      <td>Office Supplies</td>\n",
              "      <td>Storage</td>\n",
              "      <td>22.3680</td>\n",
              "      <td>2</td>\n",
              "      <td>2.5164</td>\n",
              "    </tr>\n",
              "  </tbody>\n",
              "</table>\n",
              "</div>"
            ],
            "text/plain": [
              "         order_id  order_date customer_id  ...     sales quantity    profit\n",
              "0  CA-2016-152156   11/8/2016    CG-12520  ...  261.9600        2   41.9136\n",
              "1  CA-2016-152156   11/8/2016    CG-12520  ...  731.9400        3  219.5820\n",
              "2  CA-2016-138688   6/12/2016    DV-13045  ...   14.6200        2    6.8714\n",
              "3  US-2015-108966  10/11/2015    SO-20335  ...  957.5775        5 -383.0310\n",
              "4  US-2015-108966  10/11/2015    SO-20335  ...   22.3680        2    2.5164\n",
              "\n",
              "[5 rows x 9 columns]"
            ]
          },
          "metadata": {
            "tags": []
          },
          "execution_count": 78
        }
      ]
    },
    {
      "cell_type": "markdown",
      "metadata": {
        "id": "fNJlxji43rIv"
      },
      "source": [
        "## Variabel dataset\n",
        "\n",
        "\n"
      ]
    },
    {
      "cell_type": "markdown",
      "metadata": {
        "id": "yELOC18jK11Q"
      },
      "source": [
        "Variabel-variabel yang terdapat pada dataset ini adalah sebagai berikut:\n",
        "1. **order_id** = Nomor ID pembelian(nota)\n",
        "2. **order_data** = Tanggal pembelian\n",
        "3. **customer_id** = Nomor ID pembeli\n",
        "4. **segment** = Segmen produk \n",
        "5. **category** = Kategori produk\n",
        "6. **sub_category** = Sub kategori produk\n",
        "7. **sales** = Total harga pembelian\n",
        "8. **quantity** = Jumlah produk dibeli\n",
        "9. **profit** = Keuntungan"
      ]
    },
    {
      "cell_type": "markdown",
      "metadata": {
        "id": "Aqo2bJTQK6oS"
      },
      "source": [
        ""
      ]
    },
    {
      "cell_type": "markdown",
      "metadata": {
        "id": "igjm48vdp5SF"
      },
      "source": [
        "#Tugas Individu"
      ]
    },
    {
      "cell_type": "markdown",
      "metadata": {
        "id": "FpTHwIfhS5mF"
      },
      "source": [
        "\n",
        "1. Tentukan Segment mana dengan profit tertinggi!  [30]\n",
        "2. Tentukan Category mana dengan sales terbanyak!  [30]\n",
        "3. Tentukan Sub-Category dengan quantity paling sedikit! [40]\n",
        "\n",
        "\n",
        "\n",
        "\n",
        "\n",
        "4. **Challange Question!!!  Tentukan Bulan dengan Profit Tertinggi!!!** \n",
        "\n",
        "Bonus Nilai 100 di Salah Satu Tugas Lainnya\n"
      ]
    },
    {
      "cell_type": "markdown",
      "metadata": {
        "id": "1tKdahdvaBYQ"
      },
      "source": [
        "##JAWAB:"
      ]
    },
    {
      "cell_type": "markdown",
      "metadata": {
        "id": "IHi6-BNfaIhi"
      },
      "source": [
        "####1. Tentukan segmen mana dengan profit tertinggi!"
      ]
    },
    {
      "cell_type": "code",
      "metadata": {
        "colab": {
          "base_uri": "https://localhost:8080/",
          "height": 419
        },
        "id": "XDnUSiLHgphu",
        "outputId": "31eae2af-9cce-4619-d298-e716a1f442f6"
      },
      "source": [
        "import pandas as pd\n",
        "import numpy as np\n",
        "no1 = pd.DataFrame(df[['segment', 'profit']])\n",
        "no1"
      ],
      "execution_count": 18,
      "outputs": [
        {
          "output_type": "execute_result",
          "data": {
            "text/html": [
              "<div>\n",
              "<style scoped>\n",
              "    .dataframe tbody tr th:only-of-type {\n",
              "        vertical-align: middle;\n",
              "    }\n",
              "\n",
              "    .dataframe tbody tr th {\n",
              "        vertical-align: top;\n",
              "    }\n",
              "\n",
              "    .dataframe thead th {\n",
              "        text-align: right;\n",
              "    }\n",
              "</style>\n",
              "<table border=\"1\" class=\"dataframe\">\n",
              "  <thead>\n",
              "    <tr style=\"text-align: right;\">\n",
              "      <th></th>\n",
              "      <th>segment</th>\n",
              "      <th>profit</th>\n",
              "    </tr>\n",
              "  </thead>\n",
              "  <tbody>\n",
              "    <tr>\n",
              "      <th>0</th>\n",
              "      <td>Consumer</td>\n",
              "      <td>41.9136</td>\n",
              "    </tr>\n",
              "    <tr>\n",
              "      <th>1</th>\n",
              "      <td>Consumer</td>\n",
              "      <td>219.5820</td>\n",
              "    </tr>\n",
              "    <tr>\n",
              "      <th>2</th>\n",
              "      <td>Corporate</td>\n",
              "      <td>6.8714</td>\n",
              "    </tr>\n",
              "    <tr>\n",
              "      <th>3</th>\n",
              "      <td>Consumer</td>\n",
              "      <td>-383.0310</td>\n",
              "    </tr>\n",
              "    <tr>\n",
              "      <th>4</th>\n",
              "      <td>Consumer</td>\n",
              "      <td>2.5164</td>\n",
              "    </tr>\n",
              "    <tr>\n",
              "      <th>...</th>\n",
              "      <td>...</td>\n",
              "      <td>...</td>\n",
              "    </tr>\n",
              "    <tr>\n",
              "      <th>9983</th>\n",
              "      <td>Consumer</td>\n",
              "      <td>4.1028</td>\n",
              "    </tr>\n",
              "    <tr>\n",
              "      <th>9984</th>\n",
              "      <td>Consumer</td>\n",
              "      <td>15.6332</td>\n",
              "    </tr>\n",
              "    <tr>\n",
              "      <th>9985</th>\n",
              "      <td>Consumer</td>\n",
              "      <td>19.3932</td>\n",
              "    </tr>\n",
              "    <tr>\n",
              "      <th>9986</th>\n",
              "      <td>Consumer</td>\n",
              "      <td>13.3200</td>\n",
              "    </tr>\n",
              "    <tr>\n",
              "      <th>9987</th>\n",
              "      <td>Consumer</td>\n",
              "      <td>72.9480</td>\n",
              "    </tr>\n",
              "  </tbody>\n",
              "</table>\n",
              "<p>9988 rows × 2 columns</p>\n",
              "</div>"
            ],
            "text/plain": [
              "        segment    profit\n",
              "0      Consumer   41.9136\n",
              "1      Consumer  219.5820\n",
              "2     Corporate    6.8714\n",
              "3      Consumer -383.0310\n",
              "4      Consumer    2.5164\n",
              "...         ...       ...\n",
              "9983   Consumer    4.1028\n",
              "9984   Consumer   15.6332\n",
              "9985   Consumer   19.3932\n",
              "9986   Consumer   13.3200\n",
              "9987   Consumer   72.9480\n",
              "\n",
              "[9988 rows x 2 columns]"
            ]
          },
          "metadata": {
            "tags": []
          },
          "execution_count": 18
        }
      ]
    },
    {
      "cell_type": "code",
      "metadata": {
        "colab": {
          "base_uri": "https://localhost:8080/"
        },
        "id": "ulSkcIhomTnu",
        "outputId": "c86c73a0-5add-429f-e07b-daaa58831663"
      },
      "source": [
        "df.segment.value_counts()"
      ],
      "execution_count": 19,
      "outputs": [
        {
          "output_type": "execute_result",
          "data": {
            "text/plain": [
              "Consumer       5188\n",
              "Corporate      3019\n",
              "Home Office    1781\n",
              "Name: segment, dtype: int64"
            ]
          },
          "metadata": {
            "tags": []
          },
          "execution_count": 19
        }
      ]
    },
    {
      "cell_type": "code",
      "metadata": {
        "id": "PVkXSJgE8Hbb"
      },
      "source": [
        "df_Consumer=df[df['segment']=='Consumer']\n",
        "df_Corporate=df[df['segment']=='Corporate']\n",
        "df_Home_Office=df[df['segment']=='Home Office']"
      ],
      "execution_count": 21,
      "outputs": []
    },
    {
      "cell_type": "code",
      "metadata": {
        "colab": {
          "base_uri": "https://localhost:8080/"
        },
        "id": "LrKOass08PaP",
        "outputId": "9abd3101-1251-4c6c-e55f-cd15d9359021"
      },
      "source": [
        "df_Consumer.profit.sum()"
      ],
      "execution_count": 22,
      "outputs": [
        {
          "output_type": "execute_result",
          "data": {
            "text/plain": [
              "128959.22080000001"
            ]
          },
          "metadata": {
            "tags": []
          },
          "execution_count": 22
        }
      ]
    },
    {
      "cell_type": "code",
      "metadata": {
        "colab": {
          "base_uri": "https://localhost:8080/"
        },
        "id": "d0bBHAJg8WqF",
        "outputId": "3e0b9f25-7da8-41ac-b943-107cddf8e490"
      },
      "source": [
        "df_Corporate.profit.sum()"
      ],
      "execution_count": 23,
      "outputs": [
        {
          "output_type": "execute_result",
          "data": {
            "text/plain": [
              "83579.158"
            ]
          },
          "metadata": {
            "tags": []
          },
          "execution_count": 23
        }
      ]
    },
    {
      "cell_type": "code",
      "metadata": {
        "colab": {
          "base_uri": "https://localhost:8080/"
        },
        "id": "n_8D8mVG8d5l",
        "outputId": "7ccb3a36-debb-4827-ba23-9114ca20ee0c"
      },
      "source": [
        "df_Home_Office.profit.sum()"
      ],
      "execution_count": 24,
      "outputs": [
        {
          "output_type": "execute_result",
          "data": {
            "text/plain": [
              "58189.7681"
            ]
          },
          "metadata": {
            "tags": []
          },
          "execution_count": 24
        }
      ]
    },
    {
      "cell_type": "markdown",
      "metadata": {
        "id": "7HV9TpOH8kBG"
      },
      "source": [
        "####Jadi, dalam kasus ini segment dengan profit tertinggi adalah Consumer"
      ]
    },
    {
      "cell_type": "markdown",
      "metadata": {
        "id": "xvHXepBgaS3T"
      },
      "source": [
        "####2. tentukan category mana dengan sales terbanyak!"
      ]
    },
    {
      "cell_type": "code",
      "metadata": {
        "colab": {
          "base_uri": "https://localhost:8080/",
          "height": 419
        },
        "id": "T2epktFdi_CC",
        "outputId": "5acdd534-1890-41a4-ab2b-7702f9409de4"
      },
      "source": [
        "no2= pd.DataFrame(df[['category', 'sales']]);\n",
        "no2"
      ],
      "execution_count": null,
      "outputs": [
        {
          "output_type": "execute_result",
          "data": {
            "text/html": [
              "<div>\n",
              "<style scoped>\n",
              "    .dataframe tbody tr th:only-of-type {\n",
              "        vertical-align: middle;\n",
              "    }\n",
              "\n",
              "    .dataframe tbody tr th {\n",
              "        vertical-align: top;\n",
              "    }\n",
              "\n",
              "    .dataframe thead th {\n",
              "        text-align: right;\n",
              "    }\n",
              "</style>\n",
              "<table border=\"1\" class=\"dataframe\">\n",
              "  <thead>\n",
              "    <tr style=\"text-align: right;\">\n",
              "      <th></th>\n",
              "      <th>category</th>\n",
              "      <th>sales</th>\n",
              "    </tr>\n",
              "  </thead>\n",
              "  <tbody>\n",
              "    <tr>\n",
              "      <th>0</th>\n",
              "      <td>Furniture</td>\n",
              "      <td>261.9600</td>\n",
              "    </tr>\n",
              "    <tr>\n",
              "      <th>1</th>\n",
              "      <td>Furniture</td>\n",
              "      <td>731.9400</td>\n",
              "    </tr>\n",
              "    <tr>\n",
              "      <th>2</th>\n",
              "      <td>Office Supplies</td>\n",
              "      <td>14.6200</td>\n",
              "    </tr>\n",
              "    <tr>\n",
              "      <th>3</th>\n",
              "      <td>Furniture</td>\n",
              "      <td>957.5775</td>\n",
              "    </tr>\n",
              "    <tr>\n",
              "      <th>4</th>\n",
              "      <td>Office Supplies</td>\n",
              "      <td>22.3680</td>\n",
              "    </tr>\n",
              "    <tr>\n",
              "      <th>...</th>\n",
              "      <td>...</td>\n",
              "      <td>...</td>\n",
              "    </tr>\n",
              "    <tr>\n",
              "      <th>9983</th>\n",
              "      <td>Furniture</td>\n",
              "      <td>25.2480</td>\n",
              "    </tr>\n",
              "    <tr>\n",
              "      <th>9984</th>\n",
              "      <td>Furniture</td>\n",
              "      <td>91.9600</td>\n",
              "    </tr>\n",
              "    <tr>\n",
              "      <th>9985</th>\n",
              "      <td>Technology</td>\n",
              "      <td>258.5760</td>\n",
              "    </tr>\n",
              "    <tr>\n",
              "      <th>9986</th>\n",
              "      <td>Office Supplies</td>\n",
              "      <td>29.6000</td>\n",
              "    </tr>\n",
              "    <tr>\n",
              "      <th>9987</th>\n",
              "      <td>Office Supplies</td>\n",
              "      <td>243.1600</td>\n",
              "    </tr>\n",
              "  </tbody>\n",
              "</table>\n",
              "<p>9988 rows × 2 columns</p>\n",
              "</div>"
            ],
            "text/plain": [
              "             category     sales\n",
              "0           Furniture  261.9600\n",
              "1           Furniture  731.9400\n",
              "2     Office Supplies   14.6200\n",
              "3           Furniture  957.5775\n",
              "4     Office Supplies   22.3680\n",
              "...               ...       ...\n",
              "9983        Furniture   25.2480\n",
              "9984        Furniture   91.9600\n",
              "9985       Technology  258.5760\n",
              "9986  Office Supplies   29.6000\n",
              "9987  Office Supplies  243.1600\n",
              "\n",
              "[9988 rows x 2 columns]"
            ]
          },
          "metadata": {
            "tags": []
          },
          "execution_count": 15
        }
      ]
    },
    {
      "cell_type": "code",
      "metadata": {
        "id": "YzLz1ABfi-xr",
        "colab": {
          "base_uri": "https://localhost:8080/"
        },
        "outputId": "f711c550-7644-47a5-e8f7-ec8f288eace3"
      },
      "source": [
        "df.category.value_counts()"
      ],
      "execution_count": 25,
      "outputs": [
        {
          "output_type": "execute_result",
          "data": {
            "text/plain": [
              "Office Supplies    6026\n",
              "Furniture          2121\n",
              "Technology         1841\n",
              "Name: category, dtype: int64"
            ]
          },
          "metadata": {
            "tags": []
          },
          "execution_count": 25
        }
      ]
    },
    {
      "cell_type": "code",
      "metadata": {
        "id": "24tbGZdH9Z5c"
      },
      "source": [
        "df_office_supplies=df[df['category']=='office Supplies']\n",
        "df_furniture=df[df['category']=='Furniture']\n",
        "df_technology=df[df['category']=='Technology']"
      ],
      "execution_count": 26,
      "outputs": []
    },
    {
      "cell_type": "code",
      "metadata": {
        "colab": {
          "base_uri": "https://localhost:8080/"
        },
        "id": "GI8WKDVi99gB",
        "outputId": "45d09040-3119-4296-bc5c-66d98423fae3"
      },
      "source": [
        "df_office_supplies.sales.sum()"
      ],
      "execution_count": 32,
      "outputs": [
        {
          "output_type": "execute_result",
          "data": {
            "text/plain": [
              "0.0"
            ]
          },
          "metadata": {
            "tags": []
          },
          "execution_count": 32
        }
      ]
    },
    {
      "cell_type": "code",
      "metadata": {
        "colab": {
          "base_uri": "https://localhost:8080/"
        },
        "id": "LMKebYgT-U_u",
        "outputId": "d4b47b75-720a-47ef-d2ea-b95ce14b0d70"
      },
      "source": [
        "df_furniture.sales.sum()"
      ],
      "execution_count": 30,
      "outputs": [
        {
          "output_type": "execute_result",
          "data": {
            "text/plain": [
              "741999.7953"
            ]
          },
          "metadata": {
            "tags": []
          },
          "execution_count": 30
        }
      ]
    },
    {
      "cell_type": "code",
      "metadata": {
        "colab": {
          "base_uri": "https://localhost:8080/"
        },
        "id": "mVOlfNId-bGU",
        "outputId": "87ddf50d-5354-4dc2-d4e1-b7dfe1cb7639"
      },
      "source": [
        "df_technology.sales.sum()"
      ],
      "execution_count": 31,
      "outputs": [
        {
          "output_type": "execute_result",
          "data": {
            "text/plain": [
              "755815.72"
            ]
          },
          "metadata": {
            "tags": []
          },
          "execution_count": 31
        }
      ]
    },
    {
      "cell_type": "markdown",
      "metadata": {
        "id": "UkbfNCsw-irw"
      },
      "source": [
        "####jadi, dalam kasus ini categoty dengan sales terbanyak adalah **Technology**"
      ]
    },
    {
      "cell_type": "markdown",
      "metadata": {
        "id": "KgI0DjmZae7D"
      },
      "source": [
        "####3. tentukkan sub-category dengan quantity paling sedikit!"
      ]
    },
    {
      "cell_type": "code",
      "metadata": {
        "colab": {
          "base_uri": "https://localhost:8080/",
          "height": 419
        },
        "id": "eyqiUrejjjkx",
        "outputId": "9e4dfd25-62f6-40c2-d94b-52a4ad15c18a"
      },
      "source": [
        "import pandas as pd\n",
        "import numpy as np\n",
        "no3 = pd.DataFrame(df[['sub_category', 'quantity']]);\n",
        "no3"
      ],
      "execution_count": null,
      "outputs": [
        {
          "output_type": "execute_result",
          "data": {
            "text/html": [
              "<div>\n",
              "<style scoped>\n",
              "    .dataframe tbody tr th:only-of-type {\n",
              "        vertical-align: middle;\n",
              "    }\n",
              "\n",
              "    .dataframe tbody tr th {\n",
              "        vertical-align: top;\n",
              "    }\n",
              "\n",
              "    .dataframe thead th {\n",
              "        text-align: right;\n",
              "    }\n",
              "</style>\n",
              "<table border=\"1\" class=\"dataframe\">\n",
              "  <thead>\n",
              "    <tr style=\"text-align: right;\">\n",
              "      <th></th>\n",
              "      <th>sub_category</th>\n",
              "      <th>quantity</th>\n",
              "    </tr>\n",
              "  </thead>\n",
              "  <tbody>\n",
              "    <tr>\n",
              "      <th>0</th>\n",
              "      <td>Bookcases</td>\n",
              "      <td>2</td>\n",
              "    </tr>\n",
              "    <tr>\n",
              "      <th>1</th>\n",
              "      <td>Chairs</td>\n",
              "      <td>3</td>\n",
              "    </tr>\n",
              "    <tr>\n",
              "      <th>2</th>\n",
              "      <td>Labels</td>\n",
              "      <td>2</td>\n",
              "    </tr>\n",
              "    <tr>\n",
              "      <th>3</th>\n",
              "      <td>Tables</td>\n",
              "      <td>5</td>\n",
              "    </tr>\n",
              "    <tr>\n",
              "      <th>4</th>\n",
              "      <td>Storage</td>\n",
              "      <td>2</td>\n",
              "    </tr>\n",
              "    <tr>\n",
              "      <th>...</th>\n",
              "      <td>...</td>\n",
              "      <td>...</td>\n",
              "    </tr>\n",
              "    <tr>\n",
              "      <th>9983</th>\n",
              "      <td>Furnishings</td>\n",
              "      <td>3</td>\n",
              "    </tr>\n",
              "    <tr>\n",
              "      <th>9984</th>\n",
              "      <td>Furnishings</td>\n",
              "      <td>2</td>\n",
              "    </tr>\n",
              "    <tr>\n",
              "      <th>9985</th>\n",
              "      <td>Phones</td>\n",
              "      <td>2</td>\n",
              "    </tr>\n",
              "    <tr>\n",
              "      <th>9986</th>\n",
              "      <td>Paper</td>\n",
              "      <td>4</td>\n",
              "    </tr>\n",
              "    <tr>\n",
              "      <th>9987</th>\n",
              "      <td>Appliances</td>\n",
              "      <td>2</td>\n",
              "    </tr>\n",
              "  </tbody>\n",
              "</table>\n",
              "<p>9988 rows × 2 columns</p>\n",
              "</div>"
            ],
            "text/plain": [
              "     sub_category  quantity\n",
              "0       Bookcases         2\n",
              "1          Chairs         3\n",
              "2          Labels         2\n",
              "3          Tables         5\n",
              "4         Storage         2\n",
              "...           ...       ...\n",
              "9983  Furnishings         3\n",
              "9984  Furnishings         2\n",
              "9985       Phones         2\n",
              "9986        Paper         4\n",
              "9987   Appliances         2\n",
              "\n",
              "[9988 rows x 2 columns]"
            ]
          },
          "metadata": {
            "tags": []
          },
          "execution_count": 14
        }
      ]
    },
    {
      "cell_type": "code",
      "metadata": {
        "colab": {
          "base_uri": "https://localhost:8080/"
        },
        "id": "aRxEOBL6_pdn",
        "outputId": "0a7ffd75-28a7-475d-8ba4-69854d08250e"
      },
      "source": [
        "df.sub_category.value_counts()"
      ],
      "execution_count": 33,
      "outputs": [
        {
          "output_type": "execute_result",
          "data": {
            "text/plain": [
              "Binders        1523\n",
              "Paper          1370\n",
              "Furnishings     957\n",
              "Phones          889\n",
              "Storage         846\n",
              "Art             796\n",
              "Accessories     775\n",
              "Chairs          617\n",
              "Appliances      466\n",
              "Labels          364\n",
              "Tables          319\n",
              "Envelopes       254\n",
              "Bookcases       228\n",
              "Fasteners       217\n",
              "Supplies        190\n",
              "Machines        113\n",
              "Copiers          64\n",
              "Name: sub_category, dtype: int64"
            ]
          },
          "metadata": {
            "tags": []
          },
          "execution_count": 33
        }
      ]
    },
    {
      "cell_type": "code",
      "metadata": {
        "id": "a8K3ztgP_yiJ"
      },
      "source": [
        "df_binders=df[df['sub_category']=='Binders']\n",
        "df_paper=df[df['sub_category']=='Paper']\n",
        "df_Furnishings=df[df['sub_category']=='Furnishings']\n",
        "df_phones=df[df['sub_category']=='Phones']\n",
        "df_storage=df[df['sub_category']=='Storage']\n",
        "df_Art=df[df['sub_category']=='Art']\n",
        "df_accessories=df[df['sub_category']=='Accessories']\n",
        "df_labels=df[df['sub_category']=='Labels']\n",
        "df_Tables=df[df['sub_category']=='Tables']\n",
        "df_Envelopes=df[df['sub_category']=='Envelopes']\n",
        "df_bookcases=df[df['sub_category']=='Bookcases']\n",
        "df_Fasteners=df[df['sub_category']=='Fasteners']\n",
        "df_supplies=df[df['sub_category']=='Supplies']\n",
        "df_machines=df[df['sub_category']=='Machines']\n",
        "df_copiers=df[df['sub_category']=='Copiers']"
      ],
      "execution_count": 54,
      "outputs": []
    },
    {
      "cell_type": "code",
      "metadata": {
        "colab": {
          "base_uri": "https://localhost:8080/"
        },
        "id": "wN_AH6g5B8ib",
        "outputId": "b3b2f564-666c-4e84-a58a-c38268dffeba"
      },
      "source": [
        "df_binders.quantity.sum()"
      ],
      "execution_count": 55,
      "outputs": [
        {
          "output_type": "execute_result",
          "data": {
            "text/plain": [
              "5974"
            ]
          },
          "metadata": {
            "tags": []
          },
          "execution_count": 55
        }
      ]
    },
    {
      "cell_type": "code",
      "metadata": {
        "colab": {
          "base_uri": "https://localhost:8080/"
        },
        "id": "bU-zdjWtCOIZ",
        "outputId": "eeae6675-4c55-4174-bb35-a29bc1e6a67a"
      },
      "source": [
        "df_paper.quantity.sum()"
      ],
      "execution_count": 56,
      "outputs": [
        {
          "output_type": "execute_result",
          "data": {
            "text/plain": [
              "5178"
            ]
          },
          "metadata": {
            "tags": []
          },
          "execution_count": 56
        }
      ]
    },
    {
      "cell_type": "code",
      "metadata": {
        "colab": {
          "base_uri": "https://localhost:8080/"
        },
        "id": "njY91kMmCWEk",
        "outputId": "54cafca4-1640-48ee-9354-1950a9453726"
      },
      "source": [
        "df_Furnishings.quantity.sum()"
      ],
      "execution_count": 57,
      "outputs": [
        {
          "output_type": "execute_result",
          "data": {
            "text/plain": [
              "3563"
            ]
          },
          "metadata": {
            "tags": []
          },
          "execution_count": 57
        }
      ]
    },
    {
      "cell_type": "code",
      "metadata": {
        "colab": {
          "base_uri": "https://localhost:8080/"
        },
        "id": "WJ4zqgHJCq5s",
        "outputId": "905baaee-ca80-42ce-f9cc-b115d4682fd4"
      },
      "source": [
        "df_phones.quantity.sum()"
      ],
      "execution_count": 58,
      "outputs": [
        {
          "output_type": "execute_result",
          "data": {
            "text/plain": [
              "3289"
            ]
          },
          "metadata": {
            "tags": []
          },
          "execution_count": 58
        }
      ]
    },
    {
      "cell_type": "code",
      "metadata": {
        "colab": {
          "base_uri": "https://localhost:8080/"
        },
        "id": "wn6eaOIfCuBH",
        "outputId": "6345522d-b6e3-4877-eac1-c9ba77d646fa"
      },
      "source": [
        "df_storage.quantity.sum()"
      ],
      "execution_count": 59,
      "outputs": [
        {
          "output_type": "execute_result",
          "data": {
            "text/plain": [
              "3158"
            ]
          },
          "metadata": {
            "tags": []
          },
          "execution_count": 59
        }
      ]
    },
    {
      "cell_type": "code",
      "metadata": {
        "colab": {
          "base_uri": "https://localhost:8080/"
        },
        "id": "0D1oYAE1CxyF",
        "outputId": "2e0b0ed7-0bc7-4861-e21f-653070f97743"
      },
      "source": [
        "df_Art.quantity.sum()"
      ],
      "execution_count": 60,
      "outputs": [
        {
          "output_type": "execute_result",
          "data": {
            "text/plain": [
              "3000"
            ]
          },
          "metadata": {
            "tags": []
          },
          "execution_count": 60
        }
      ]
    },
    {
      "cell_type": "code",
      "metadata": {
        "colab": {
          "base_uri": "https://localhost:8080/"
        },
        "id": "yXqEYDhYC9lM",
        "outputId": "5fa62d34-f3b1-44a1-f17a-7b2a129658b8"
      },
      "source": [
        "df_accessories.quantity.sum()"
      ],
      "execution_count": 61,
      "outputs": [
        {
          "output_type": "execute_result",
          "data": {
            "text/plain": [
              "2976"
            ]
          },
          "metadata": {
            "tags": []
          },
          "execution_count": 61
        }
      ]
    },
    {
      "cell_type": "code",
      "metadata": {
        "colab": {
          "base_uri": "https://localhost:8080/"
        },
        "id": "a1yFwJO9DDC-",
        "outputId": "33b67301-6fbd-4e90-eaca-5359d121aad5"
      },
      "source": [
        "df_labels.quantity.sum()"
      ],
      "execution_count": 62,
      "outputs": [
        {
          "output_type": "execute_result",
          "data": {
            "text/plain": [
              "1400"
            ]
          },
          "metadata": {
            "tags": []
          },
          "execution_count": 62
        }
      ]
    },
    {
      "cell_type": "code",
      "metadata": {
        "colab": {
          "base_uri": "https://localhost:8080/"
        },
        "id": "urtqutmsDF3M",
        "outputId": "e8e4dee1-fdf5-4f45-fbdc-14f6ce466acf"
      },
      "source": [
        "df_Tables.quantity.sum()"
      ],
      "execution_count": 63,
      "outputs": [
        {
          "output_type": "execute_result",
          "data": {
            "text/plain": [
              "1241"
            ]
          },
          "metadata": {
            "tags": []
          },
          "execution_count": 63
        }
      ]
    },
    {
      "cell_type": "code",
      "metadata": {
        "colab": {
          "base_uri": "https://localhost:8080/"
        },
        "id": "dIQRs23oDOZy",
        "outputId": "554c8788-d874-40bc-9b37-9c2862440ebf"
      },
      "source": [
        "df_Envelopes.quantity.sum()"
      ],
      "execution_count": 64,
      "outputs": [
        {
          "output_type": "execute_result",
          "data": {
            "text/plain": [
              "906"
            ]
          },
          "metadata": {
            "tags": []
          },
          "execution_count": 64
        }
      ]
    },
    {
      "cell_type": "code",
      "metadata": {
        "colab": {
          "base_uri": "https://localhost:8080/"
        },
        "id": "5qwQdOEODTDw",
        "outputId": "68b618dd-17ba-4e16-a5a1-6e66f9ad2e78"
      },
      "source": [
        "df_bookcases.quantity.sum()"
      ],
      "execution_count": 65,
      "outputs": [
        {
          "output_type": "execute_result",
          "data": {
            "text/plain": [
              "868"
            ]
          },
          "metadata": {
            "tags": []
          },
          "execution_count": 65
        }
      ]
    },
    {
      "cell_type": "code",
      "metadata": {
        "colab": {
          "base_uri": "https://localhost:8080/"
        },
        "id": "ISDPnaaCDY6n",
        "outputId": "fff97b54-6e57-440c-814d-1576c1bef19b"
      },
      "source": [
        "df_Fasteners.quantity.sum()"
      ],
      "execution_count": 66,
      "outputs": [
        {
          "output_type": "execute_result",
          "data": {
            "text/plain": [
              "914"
            ]
          },
          "metadata": {
            "tags": []
          },
          "execution_count": 66
        }
      ]
    },
    {
      "cell_type": "code",
      "metadata": {
        "colab": {
          "base_uri": "https://localhost:8080/"
        },
        "id": "ngrlCiELDh5F",
        "outputId": "d9e00030-a2aa-42f8-c7e3-4eed1c10e246"
      },
      "source": [
        "df_supplies.quantity.sum()"
      ],
      "execution_count": 68,
      "outputs": [
        {
          "output_type": "execute_result",
          "data": {
            "text/plain": [
              "647"
            ]
          },
          "metadata": {
            "tags": []
          },
          "execution_count": 68
        }
      ]
    },
    {
      "cell_type": "code",
      "metadata": {
        "colab": {
          "base_uri": "https://localhost:8080/"
        },
        "id": "C1-JWP15Dluf",
        "outputId": "dadefa95-0bd5-4fd0-94da-420ec61aeb17"
      },
      "source": [
        "df_machines.quantity.sum()"
      ],
      "execution_count": 69,
      "outputs": [
        {
          "output_type": "execute_result",
          "data": {
            "text/plain": [
              "429"
            ]
          },
          "metadata": {
            "tags": []
          },
          "execution_count": 69
        }
      ]
    },
    {
      "cell_type": "code",
      "metadata": {
        "colab": {
          "base_uri": "https://localhost:8080/"
        },
        "id": "gpExWDyNDon4",
        "outputId": "bcc55ec3-0ec0-4832-a002-fff57fc67bfb"
      },
      "source": [
        "df_copiers.quantity.sum()"
      ],
      "execution_count": 70,
      "outputs": [
        {
          "output_type": "execute_result",
          "data": {
            "text/plain": [
              "218"
            ]
          },
          "metadata": {
            "tags": []
          },
          "execution_count": 70
        }
      ]
    },
    {
      "cell_type": "markdown",
      "metadata": {
        "id": "xVwyoA8bD4nT"
      },
      "source": [
        "####jadi, sub-category dengan quantity paling sedikit adalah copiers"
      ]
    },
    {
      "cell_type": "markdown",
      "metadata": {
        "id": "VcQpOMahE9rn"
      },
      "source": [
        "##Challange Question!!! Tentukan Bulan dengan Profit Tertinggi!!!"
      ]
    },
    {
      "cell_type": "code",
      "metadata": {
        "colab": {
          "base_uri": "https://localhost:8080/",
          "height": 419
        },
        "id": "CiBI1c7CFETN",
        "outputId": "51e2dfe9-ae85-4b6b-d317-335dd3a908ee"
      },
      "source": [
        "import pandas as pd\n",
        "import numpy as np\n",
        "challange = pd.DataFrame(df[['order_date','profit']])\n",
        "challange"
      ],
      "execution_count": 88,
      "outputs": [
        {
          "output_type": "execute_result",
          "data": {
            "text/html": [
              "<div>\n",
              "<style scoped>\n",
              "    .dataframe tbody tr th:only-of-type {\n",
              "        vertical-align: middle;\n",
              "    }\n",
              "\n",
              "    .dataframe tbody tr th {\n",
              "        vertical-align: top;\n",
              "    }\n",
              "\n",
              "    .dataframe thead th {\n",
              "        text-align: right;\n",
              "    }\n",
              "</style>\n",
              "<table border=\"1\" class=\"dataframe\">\n",
              "  <thead>\n",
              "    <tr style=\"text-align: right;\">\n",
              "      <th></th>\n",
              "      <th>order_date</th>\n",
              "      <th>profit</th>\n",
              "    </tr>\n",
              "  </thead>\n",
              "  <tbody>\n",
              "    <tr>\n",
              "      <th>0</th>\n",
              "      <td>11/8/2016</td>\n",
              "      <td>41.9136</td>\n",
              "    </tr>\n",
              "    <tr>\n",
              "      <th>1</th>\n",
              "      <td>11/8/2016</td>\n",
              "      <td>219.5820</td>\n",
              "    </tr>\n",
              "    <tr>\n",
              "      <th>2</th>\n",
              "      <td>6/12/2016</td>\n",
              "      <td>6.8714</td>\n",
              "    </tr>\n",
              "    <tr>\n",
              "      <th>3</th>\n",
              "      <td>10/11/2015</td>\n",
              "      <td>-383.0310</td>\n",
              "    </tr>\n",
              "    <tr>\n",
              "      <th>4</th>\n",
              "      <td>10/11/2015</td>\n",
              "      <td>2.5164</td>\n",
              "    </tr>\n",
              "    <tr>\n",
              "      <th>...</th>\n",
              "      <td>...</td>\n",
              "      <td>...</td>\n",
              "    </tr>\n",
              "    <tr>\n",
              "      <th>9983</th>\n",
              "      <td>1/21/2014</td>\n",
              "      <td>4.1028</td>\n",
              "    </tr>\n",
              "    <tr>\n",
              "      <th>9984</th>\n",
              "      <td>2/26/2017</td>\n",
              "      <td>15.6332</td>\n",
              "    </tr>\n",
              "    <tr>\n",
              "      <th>9985</th>\n",
              "      <td>2/26/2017</td>\n",
              "      <td>19.3932</td>\n",
              "    </tr>\n",
              "    <tr>\n",
              "      <th>9986</th>\n",
              "      <td>2/26/2017</td>\n",
              "      <td>13.3200</td>\n",
              "    </tr>\n",
              "    <tr>\n",
              "      <th>9987</th>\n",
              "      <td>5/4/2017</td>\n",
              "      <td>72.9480</td>\n",
              "    </tr>\n",
              "  </tbody>\n",
              "</table>\n",
              "<p>9988 rows × 2 columns</p>\n",
              "</div>"
            ],
            "text/plain": [
              "      order_date    profit\n",
              "0      11/8/2016   41.9136\n",
              "1      11/8/2016  219.5820\n",
              "2      6/12/2016    6.8714\n",
              "3     10/11/2015 -383.0310\n",
              "4     10/11/2015    2.5164\n",
              "...          ...       ...\n",
              "9983   1/21/2014    4.1028\n",
              "9984   2/26/2017   15.6332\n",
              "9985   2/26/2017   19.3932\n",
              "9986   2/26/2017   13.3200\n",
              "9987    5/4/2017   72.9480\n",
              "\n",
              "[9988 rows x 2 columns]"
            ]
          },
          "metadata": {
            "tags": []
          },
          "execution_count": 88
        }
      ]
    },
    {
      "cell_type": "code",
      "metadata": {
        "colab": {
          "base_uri": "https://localhost:8080/"
        },
        "id": "3HEHvVY5JAKN",
        "outputId": "7f7d191c-e7a6-4007-c614-aac69788da6e"
      },
      "source": [
        "df.order_date.value_counts()"
      ],
      "execution_count": 89,
      "outputs": [
        {
          "output_type": "execute_result",
          "data": {
            "text/plain": [
              "9/5/2016      38\n",
              "9/2/2017      36\n",
              "11/10/2016    35\n",
              "12/2/2017     34\n",
              "12/1/2017     34\n",
              "              ..\n",
              "7/20/2016      1\n",
              "2/22/2014      1\n",
              "12/29/2015     1\n",
              "3/27/2015      1\n",
              "1/31/2014      1\n",
              "Name: order_date, Length: 1237, dtype: int64"
            ]
          },
          "metadata": {
            "tags": []
          },
          "execution_count": 89
        }
      ]
    }
  ]
}